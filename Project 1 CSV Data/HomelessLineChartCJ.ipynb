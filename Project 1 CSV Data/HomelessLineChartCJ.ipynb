{
 "cells": [
  {
   "cell_type": "code",
   "execution_count": 27,
   "metadata": {},
   "outputs": [],
   "source": [
    "import pandas as pd\n",
    "import numpy as np\n",
    "import matplotlib.pyplot as plt"
   ]
  },
  {
   "cell_type": "code",
   "execution_count": 23,
   "metadata": {},
   "outputs": [
    {
     "data": {
      "text/html": [
       "<div>\n",
       "<style scoped>\n",
       "    .dataframe tbody tr th:only-of-type {\n",
       "        vertical-align: middle;\n",
       "    }\n",
       "\n",
       "    .dataframe tbody tr th {\n",
       "        vertical-align: top;\n",
       "    }\n",
       "\n",
       "    .dataframe thead th {\n",
       "        text-align: right;\n",
       "    }\n",
       "</style>\n",
       "<table border=\"1\" class=\"dataframe\">\n",
       "  <thead>\n",
       "    <tr style=\"text-align: right;\">\n",
       "      <th></th>\n",
       "      <th>Year</th>\n",
       "      <th>State</th>\n",
       "      <th>CoC Number</th>\n",
       "      <th>CoC Name</th>\n",
       "      <th>Measures</th>\n",
       "      <th>Count</th>\n",
       "    </tr>\n",
       "  </thead>\n",
       "  <tbody>\n",
       "    <tr>\n",
       "      <th>2815</th>\n",
       "      <td>1/1/2007</td>\n",
       "      <td>NC</td>\n",
       "      <td>NC-505</td>\n",
       "      <td>Charlotte/Mecklenberg CoC</td>\n",
       "      <td>Total Homeless</td>\n",
       "      <td>1,976</td>\n",
       "    </tr>\n",
       "    <tr>\n",
       "      <th>7603</th>\n",
       "      <td>1/1/2008</td>\n",
       "      <td>NC</td>\n",
       "      <td>NC-505</td>\n",
       "      <td>Charlotte/Mecklenberg CoC</td>\n",
       "      <td>Total Homeless</td>\n",
       "      <td>1,988</td>\n",
       "    </tr>\n",
       "    <tr>\n",
       "      <th>12355</th>\n",
       "      <td>1/1/2009</td>\n",
       "      <td>NC</td>\n",
       "      <td>NC-505</td>\n",
       "      <td>Charlotte/Mecklenberg CoC</td>\n",
       "      <td>Total Homeless</td>\n",
       "      <td>2,594</td>\n",
       "    </tr>\n",
       "    <tr>\n",
       "      <th>17131</th>\n",
       "      <td>1/1/2010</td>\n",
       "      <td>NC</td>\n",
       "      <td>NC-505</td>\n",
       "      <td>Charlotte/Mecklenberg CoC</td>\n",
       "      <td>Total Homeless</td>\n",
       "      <td>2,841</td>\n",
       "    </tr>\n",
       "    <tr>\n",
       "      <th>24025</th>\n",
       "      <td>1/1/2011</td>\n",
       "      <td>NC</td>\n",
       "      <td>NC-505</td>\n",
       "      <td>Charlotte/Mecklenberg CoC</td>\n",
       "      <td>Total Homeless</td>\n",
       "      <td>2,847</td>\n",
       "    </tr>\n",
       "    <tr>\n",
       "      <th>32404</th>\n",
       "      <td>1/1/2012</td>\n",
       "      <td>NC</td>\n",
       "      <td>NC-505</td>\n",
       "      <td>Charlotte/Mecklenberg CoC</td>\n",
       "      <td>Total Homeless</td>\n",
       "      <td>2,567</td>\n",
       "    </tr>\n",
       "    <tr>\n",
       "      <th>40804</th>\n",
       "      <td>1/1/2013</td>\n",
       "      <td>NC</td>\n",
       "      <td>NC-505</td>\n",
       "      <td>Charlotte/Mecklenberg CoC</td>\n",
       "      <td>Total Homeless</td>\n",
       "      <td>2,418</td>\n",
       "    </tr>\n",
       "    <tr>\n",
       "      <th>49204</th>\n",
       "      <td>1/1/2014</td>\n",
       "      <td>NC</td>\n",
       "      <td>NC-505</td>\n",
       "      <td>Charlotte/Mecklenberg CoC</td>\n",
       "      <td>Total Homeless</td>\n",
       "      <td>2,014</td>\n",
       "    </tr>\n",
       "    <tr>\n",
       "      <th>62616</th>\n",
       "      <td>1/1/2015</td>\n",
       "      <td>NC</td>\n",
       "      <td>NC-505</td>\n",
       "      <td>Charlotte/Mecklenberg CoC</td>\n",
       "      <td>Total Homeless</td>\n",
       "      <td>2,001</td>\n",
       "    </tr>\n",
       "    <tr>\n",
       "      <th>79542</th>\n",
       "      <td>1/1/2016</td>\n",
       "      <td>NC</td>\n",
       "      <td>NC-505</td>\n",
       "      <td>Charlotte/Mecklenberg CoC</td>\n",
       "      <td>Total Homeless</td>\n",
       "      <td>1,818</td>\n",
       "    </tr>\n",
       "  </tbody>\n",
       "</table>\n",
       "</div>"
      ],
      "text/plain": [
       "           Year State CoC Number                   CoC Name        Measures  \\\n",
       "2815   1/1/2007    NC     NC-505  Charlotte/Mecklenberg CoC  Total Homeless   \n",
       "7603   1/1/2008    NC     NC-505  Charlotte/Mecklenberg CoC  Total Homeless   \n",
       "12355  1/1/2009    NC     NC-505  Charlotte/Mecklenberg CoC  Total Homeless   \n",
       "17131  1/1/2010    NC     NC-505  Charlotte/Mecklenberg CoC  Total Homeless   \n",
       "24025  1/1/2011    NC     NC-505  Charlotte/Mecklenberg CoC  Total Homeless   \n",
       "32404  1/1/2012    NC     NC-505  Charlotte/Mecklenberg CoC  Total Homeless   \n",
       "40804  1/1/2013    NC     NC-505  Charlotte/Mecklenberg CoC  Total Homeless   \n",
       "49204  1/1/2014    NC     NC-505  Charlotte/Mecklenberg CoC  Total Homeless   \n",
       "62616  1/1/2015    NC     NC-505  Charlotte/Mecklenberg CoC  Total Homeless   \n",
       "79542  1/1/2016    NC     NC-505  Charlotte/Mecklenberg CoC  Total Homeless   \n",
       "\n",
       "       Count  \n",
       "2815   1,976  \n",
       "7603   1,988  \n",
       "12355  2,594  \n",
       "17131  2,841  \n",
       "24025  2,847  \n",
       "32404  2,567  \n",
       "40804  2,418  \n",
       "49204  2,014  \n",
       "62616  2,001  \n",
       "79542  1,818  "
      ]
     },
     "execution_count": 23,
     "metadata": {},
     "output_type": "execute_result"
    }
   ],
   "source": [
    "df = pd.read_csv(\"2007-2016-Homelessnewss-USA.csv\")\n",
    "df.head()\n",
    "NC =df[df[\"State\"] == \"NC\"]\n",
    "Charlotte = df[df[\"CoC Name\"] == \"Charlotte/Mecklenberg CoC\"]\n",
    "Charlotte1 = Charlotte[Charlotte[\"Measures\"] == 'Total Homeless']\n",
    "\n",
    "Charlotte1.head(10)"
   ]
  },
  {
   "cell_type": "code",
   "execution_count": 80,
   "metadata": {
    "scrolled": true
   },
   "outputs": [
    {
     "data": {
      "text/plain": [
       "[1976, 1988, 2594, 2841, 2847, 2567, 2418, 2014, 2001, 1818]"
      ]
     },
     "execution_count": 80,
     "metadata": {},
     "output_type": "execute_result"
    }
   ],
   "source": [
    "y_xs = Charlotte1['Count']\n",
    "x_xs = Charlotte1['Year']\n",
    "\n",
    "x_axis = []\n",
    "\n",
    "for x in x_xs:\n",
    "    x_axis.append(x[4:])\n",
    "\n",
    "y_axis = []\n",
    "for y in y_xs:\n",
    "    y =  y.replace(',','')\n",
    "    y_axis.append(int(y))\n",
    "    \n",
    "y_axis   "
   ]
  },
  {
   "cell_type": "code",
   "execution_count": null,
   "metadata": {},
   "outputs": [],
   "source": [
    "# DATASET 2\n",
    "x_lim = 2 * np.pi\n",
    "x_axis = np.arange(0, x_lim, 0.1)\n",
    "sin = np.sin(x_axis)"
   ]
  },
  {
   "cell_type": "code",
   "execution_count": 83,
   "metadata": {},
   "outputs": [
    {
     "data": {
      "image/png": "[encoded data removed]",
      "text/plain": [
       "<Figure size 432x288 with 1 Axes>"
      ]
     },
     "metadata": {
      "needs_background": "light"
     },
     "output_type": "display_data"
    }
   ],
   "source": [
    "plt.title(\"Mecklenburg Co. Homeless\")\n",
    "plt.xlabel(\"Year\")\n",
    "plt.ylabel(\"Count\")\n",
    "\n",
    "\n",
    "plt.bar(x_axis, y_axis, facecolor=\"red\", alpha=0.75, align=\"center\")\n",
    "#plt.xticks(tick_locations, gyms)\n",
    "plt.show()"
   ]
  },
  {
   "cell_type": "code",
   "execution_count": 82,
   "metadata": {},
   "outputs": [
    {
     "data": {
      "image/png": "[encoded data removed]",
      "text/plain": [
       "<Figure size 432x288 with 1 Axes>"
      ]
     },
     "metadata": {
      "needs_background": "light"
     },
     "output_type": "display_data"
    }
   ],
   "source": [
    "plt.title(\"Mecklenburg Co. Homeless\")\n",
    "plt.xlabel(\"Year\")\n",
    "plt.ylabel(\"Count\")\n",
    "\n",
    "\n",
    "plt.plot(x_axis, y_axis, marker=\"o\", color=\"red\", linewidth=1)\n",
    "plt.show()"
   ]
  }
 ],
 "metadata": {
  "kernelspec": {
   "display_name": "Python 3",
   "language": "python",
   "name": "python3"
  },
  "language_info": {
   "codemirror_mode": {
    "name": "ipython",
    "version": 3
   },
   "file_extension": ".py",
   "mimetype": "text/x-python",
   "name": "python",
   "nbconvert_exporter": "python",
   "pygments_lexer": "ipython3",
   "version": "3.6.6"
  }
 },
 "nbformat": 4,
 "nbformat_minor": 2
}
