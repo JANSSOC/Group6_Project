{
 "cells": [
  {
   "cell_type": "code",
   "execution_count": 1,
   "metadata": {},
   "outputs": [],
   "source": [
    "import pandas as pd\n",
    "import numpy as np\n",
    "import matplotlib.pyplot as plt"
   ]
  },
  {
   "cell_type": "code",
   "execution_count": 2,
   "metadata": {},
   "outputs": [
    {
     "data": {
      "text/plain": [
       "828     Sarasota/Bradenton/Manatee, Sarasota Counties CoC\n",
       "840                         Tampa/Hillsborough County CoC\n",
       "852     St. Petersburg/Clearwater/Largo/Pinellas Count...\n",
       "864                 Lakeland/Winter Haven/Polk County CoC\n",
       "876     Daytona Beach/Daytona/Volusia, Flagler Countie...\n",
       "888       Fort Walton Beach/Okaloosa, Walton Counties CoC\n",
       "900                           Tallahassee/Leon County CoC\n",
       "912        Orlando/Orange, Osceola, Seminole Counties CoC\n",
       "924              Gainesville/Alachua, Putnam Counties CoC\n",
       "936     Fort Pierce/St. Lucie, Indian River, Martin Co...\n",
       "948                 Jacksonville-Duval, Clay Counties CoC\n",
       "960              Pensacola/Escambia/Santa Rosa County CoC\n",
       "972                                Saint Johns County CoC\n",
       "984                 Palm Bay/Melbourne/Brevard County CoC\n",
       "996                               Ocala/Marion County CoC\n",
       "1008                Panama City/Bay, Jackson Counties CoC\n",
       "1020               Hendry, Hardee, Highlands Counties CoC\n",
       "1032    Columbia, Hamilton, Lafayette, Suwannee Counti...\n",
       "1044                                     Pasco County CoC\n",
       "1056          Citrus, Hernando, Lake, Sumter Counties CoC\n",
       "1068                                Miami/Dade County CoC\n",
       "1080                     Ft Lauderdale/Broward County CoC\n",
       "1092                     Punta Gorda/Charlotte County CoC\n",
       "1104                   Ft Myers/Cape Coral/Lee County CoC\n",
       "1116                                    Monroe County CoC\n",
       "1128                West Palm Beach/Palm Beach County CoC\n",
       "1140                            Naples/Collier County CoC\n",
       "Name: CoC Name, dtype: object"
      ]
     },
     "execution_count": 2,
     "metadata": {},
     "output_type": "execute_result"
    }
   ],
   "source": [
    " df = pd.read_csv(\"Project 1 CSV Data/2007-2016-Homelessnewss-USA.csv\")\n",
    "df.head()\n",
    "NC =df[df[\"State\"] == \"NC\"]\n",
    "CT =df[df[\"State\"] == \"FL\"]\n",
    "Charlotte = df[df[\"CoC Name\"] == \"Charlotte/Mecklenberg CoC\"]\n",
    "Charlotte1 = Charlotte[Charlotte[\"Measures\"] == 'Total Homeless']\n",
    "Measures = Charlotte['Measures'].drop_duplicates()\n",
    "CocName = CT['CoC Name'].drop_duplicates()\n",
    "Charlotte2 = pd.DataFrame()\n",
    "#Raleigh/Wake County CoC\n",
    "#Charlotte/Mecklenberg CoC\n",
    "for m in Measures:\n",
    "    data = Charlotte[['Year','Measures','Count']]\n",
    "    data = data[data[\"Measures\"] == m]\n",
    "    data = data[['Year','Count']]\n",
    "    data = data.set_index('Year')\n",
    "\n",
    "    \n",
    "    #data1 = pd.DataFrame({m:data})\n",
    "    #print(data)\n",
    "    Charlotte2 = Charlotte2.append(data)\n",
    "\n",
    "Charlotte2\n",
    "Measures\n",
    "CocName\n",
    "\n"
   ]
  },
  {
   "cell_type": "code",
   "execution_count": 3,
   "metadata": {},
   "outputs": [
    {
     "data": {
      "text/plain": [
       "[1043, 1144, 1152, 1180, 1150, 1116, 1098, 1170, 904, 818]"
      ]
     },
     "execution_count": 3,
     "metadata": {},
     "output_type": "execute_result"
    }
   ],
   "source": [
    "Raleigh = df[df[\"CoC Name\"] == \"Raleigh/Wake County CoC\"]\n",
    "Raleigh1 = Raleigh[Raleigh[\"Measures\"] == 'Total Homeless']\n",
    "y_xs1 = Raleigh1['Count']\n",
    "x_xs1 = Raleigh1['Year']\n",
    "\n",
    "x_axis1 = []\n",
    "\n",
    "for x in x_xs1:\n",
    "    x_axis1.append(x[4:])\n",
    "\n",
    "y_axis1 = []\n",
    "for y in y_xs1:\n",
    "    y =  y.replace(',','')\n",
    "    y_axis1.append(int(y))\n",
    "    \n",
    "y_axis1   \n"
   ]
  },
  {
   "cell_type": "code",
   "execution_count": 4,
   "metadata": {
    "scrolled": true
   },
   "outputs": [
    {
     "data": {
      "text/plain": [
       "[1976, 1988, 2594, 2841, 2847, 2567, 2418, 2014, 2001, 1818]"
      ]
     },
     "execution_count": 4,
     "metadata": {},
     "output_type": "execute_result"
    }
   ],
   "source": [
    "y_xs = Charlotte1['Count']\n",
    "x_xs = Charlotte1['Year']\n",
    "\n",
    "x_axis = []\n",
    "\n",
    "for x in x_xs:\n",
    "    x_axis.append(x[4:])\n",
    "\n",
    "y_axis = []\n",
    "for y in y_xs:\n",
    "    y =  y.replace(',','')\n",
    "    y_axis.append(int(y))\n",
    "    \n",
    "y_axis   "
   ]
  },
  {
   "cell_type": "code",
   "execution_count": 5,
   "metadata": {},
   "outputs": [
    {
     "data": {
      "image/png": "[encoded data removed]",
      "text/plain": [
       "<Figure size 432x288 with 1 Axes>"
      ]
     },
     "metadata": {
      "needs_background": "light"
     },
     "output_type": "display_data"
    }
   ],
   "source": [
    "plt.title(\"Mecklenburg Co. Homeless\")\n",
    "plt.xlabel(\"Year\")\n",
    "plt.ylabel(\"Count\")\n",
    "\n",
    "\n",
    "plt.bar(x_axis, y_axis, facecolor=\"red\", alpha=0.75, align=\"center\")\n",
    "#plt.xticks(tick_locations, gyms)\n",
    "plt.savefig(\"Mecklenburg Co. Homeless.png\")\n",
    "plt.show()"
   ]
  },
  {
   "cell_type": "code",
   "execution_count": 6,
   "metadata": {},
   "outputs": [
    {
     "data": {
      "image/png": "[encoded data removed]",
      "text/plain": [
       "<Figure size 432x288 with 1 Axes>"
      ]
     },
     "metadata": {
      "needs_background": "light"
     },
     "output_type": "display_data"
    }
   ],
   "source": [
    "plt.title(\"Raleigh/Wake County CoC\")\n",
    "plt.xlabel(\"Year\")\n",
    "plt.ylabel(\"Count\")\n",
    "\n",
    "\n",
    "plt.bar(x_axis1, y_axis1, facecolor=\"red\", alpha=0.75, align=\"center\")\n",
    "#plt.xticks(tick_locations, gyms)\n",
    "plt.savefig(\"Raleigh_Wake County CoC.png\")\n",
    "plt.show()"
   ]
  },
  {
   "cell_type": "code",
   "execution_count": 7,
   "metadata": {},
   "outputs": [
    {
     "data": {
      "image/png": "[encoded data removed]",
      "text/plain": [
       "<Figure size 432x288 with 1 Axes>"
      ]
     },
     "metadata": {
      "needs_background": "light"
     },
     "output_type": "display_data"
    }
   ],
   "source": [
    "plt.title(\"Total Homeless Population\")\n",
    "plt.xlabel(\"Year\")\n",
    "plt.ylabel(\"Count of Total Homeless\")\n",
    "\n",
    "\n",
    "plt.plot(x_axis, y_axis, marker=\"o\", color=\"red\", linewidth=1)\n",
    "plt.show()"
   ]
  },
  {
   "cell_type": "code",
   "execution_count": 19,
   "metadata": {
    "scrolled": true
   },
   "outputs": [
    {
     "data": {
      "image/png": "[encoded data removed]",
      "text/plain": [
       "<Figure size 432x288 with 1 Axes>"
      ]
     },
     "metadata": {
      "needs_background": "light"
     },
     "output_type": "display_data"
    }
   ],
   "source": [
    "# Plot the world average as a line chart\n",
    "world_avg, = plt.plot(x_axis, y_axis, color=\"lightskyblue\", label=\"Mecklenburg County\" )\n",
    "\n",
    "# Plot the unemployment values for a single country\n",
    "country_one, = plt.plot(x_axis, y_axis1, color=\"magenta\",label=\"Wake County\")\n",
    "\n",
    "# Create a legend for our chart\n",
    "plt.legend(handles=[world_avg, country_one], loc=\"best\")\n",
    "plt.title(\"Total Homeless\")\n",
    "plt.xlabel(\"Year\")\n",
    "plt.ylabel(\"Count of Homeless Persons\")\n",
    "plt.grid(axis='y')\n",
    "plt.savefig(\"Total Homeless Population.png\")\n",
    "\n",
    "\n",
    "# Show the chart\n",
    "plt.show()"
   ]
  },
  {
   "cell_type": "code",
   "execution_count": 18,
   "metadata": {
    "scrolled": true
   },
   "outputs": [
    {
     "data": {
      "text/html": [
       "<div>\n",
       "<style scoped>\n",
       "    .dataframe tbody tr th:only-of-type {\n",
       "        vertical-align: middle;\n",
       "    }\n",
       "\n",
       "    .dataframe tbody tr th {\n",
       "        vertical-align: top;\n",
       "    }\n",
       "\n",
       "    .dataframe thead th {\n",
       "        text-align: right;\n",
       "    }\n",
       "</style>\n",
       "<table border=\"1\" class=\"dataframe\">\n",
       "  <thead>\n",
       "    <tr style=\"text-align: right;\">\n",
       "      <th></th>\n",
       "      <th>Mecklenburg County</th>\n",
       "      <th>Wake County</th>\n",
       "    </tr>\n",
       "  </thead>\n",
       "  <tbody>\n",
       "    <tr>\n",
       "      <th>2007</th>\n",
       "      <td>1976</td>\n",
       "      <td>1043</td>\n",
       "    </tr>\n",
       "    <tr>\n",
       "      <th>2008</th>\n",
       "      <td>1988</td>\n",
       "      <td>1144</td>\n",
       "    </tr>\n",
       "    <tr>\n",
       "      <th>2009</th>\n",
       "      <td>2594</td>\n",
       "      <td>1152</td>\n",
       "    </tr>\n",
       "    <tr>\n",
       "      <th>2010</th>\n",
       "      <td>2841</td>\n",
       "      <td>1180</td>\n",
       "    </tr>\n",
       "    <tr>\n",
       "      <th>2011</th>\n",
       "      <td>2847</td>\n",
       "      <td>1150</td>\n",
       "    </tr>\n",
       "    <tr>\n",
       "      <th>2012</th>\n",
       "      <td>2567</td>\n",
       "      <td>1116</td>\n",
       "    </tr>\n",
       "    <tr>\n",
       "      <th>2013</th>\n",
       "      <td>2418</td>\n",
       "      <td>1098</td>\n",
       "    </tr>\n",
       "    <tr>\n",
       "      <th>2014</th>\n",
       "      <td>2014</td>\n",
       "      <td>1170</td>\n",
       "    </tr>\n",
       "    <tr>\n",
       "      <th>2015</th>\n",
       "      <td>2001</td>\n",
       "      <td>904</td>\n",
       "    </tr>\n",
       "    <tr>\n",
       "      <th>2016</th>\n",
       "      <td>1818</td>\n",
       "      <td>818</td>\n",
       "    </tr>\n",
       "  </tbody>\n",
       "</table>\n",
       "</div>"
      ],
      "text/plain": [
       "      Mecklenburg County  Wake County\n",
       "2007                1976         1043\n",
       "2008                1988         1144\n",
       "2009                2594         1152\n",
       "2010                2841         1180\n",
       "2011                2847         1150\n",
       "2012                2567         1116\n",
       "2013                2418         1098\n",
       "2014                2014         1170\n",
       "2015                2001          904\n",
       "2016                1818          818"
      ]
     },
     "execution_count": 18,
     "metadata": {},
     "output_type": "execute_result"
    }
   ],
   "source": [
    "df1 = pd.DataFrame({\"Mecklenburg County\": y_axis,\"Wake County\": y_axis1}, index=x_axis)\n",
    "df1.to_csv(\"Homeless_data_07_16.csv\")\n",
    "df1"
   ]
  }
 ],
 "metadata": {
  "kernelspec": {
   "display_name": "Python 3",
   "language": "python",
   "name": "python3"
  },
  "language_info": {
   "codemirror_mode": {
    "name": "ipython",
    "version": 3
   },
   "file_extension": ".py",
   "mimetype": "text/x-python",
   "name": "python",
   "nbconvert_exporter": "python",
   "pygments_lexer": "ipython3",
   "version": "3.6.6"
  }
 },
 "nbformat": 4,
 "nbformat_minor": 2
}
